{
 "cells": [
  {
   "cell_type": "markdown",
   "id": "33ef1357",
   "metadata": {},
   "source": [
    "# Importing Libraries, Setting Helper Fucnctions and Reading in Data"
   ]
  },
  {
   "cell_type": "code",
   "execution_count": 1,
   "id": "64896e82",
   "metadata": {},
   "outputs": [],
   "source": [
    "%matplotlib inline\n",
    "import numpy as np\n",
    "import pandas as pd\n",
    "import matplotlib.pyplot as plt\n",
    "import matplotlib as mpl\n",
    "from matplotlib import pyplot\n",
    "\n",
    "import math\n",
    "import os\n",
    "import statistics\n",
    "\n",
    "import statsmodels.api as sm\n",
    "import statsmodels.formula.api as smf\n",
    "from statsmodels.tsa.stattools import adfuller\n",
    "from statsmodels.tsa.seasonal import seasonal_decompose\n",
    "\n",
    "# an initial clean-up function\n",
    "def clean_up(df,ds='rawdata1'):\n",
    "    df[\"YEAR\"] = df[\"YEAR\"].astype('str')\n",
    "    df[\"MONTH\"] = df[\"MONTH\"].astype('str')\n",
    "    df[\"DATE\"] = df[\"MONTH\"] + '-' + df[\"YEAR\"]\n",
    "    df[\"DATE\"] =  pd.to_datetime(df[\"DATE\"], format=\"%m-%Y\")\n",
    "    df['half year'] = np.where(df['DATE'].dt.month.le(6), 'H1', 'H2')\n",
    "    col = df['half year'] + '-' + df[\"YEAR\"]\n",
    "    \n",
    "    if ds == 'rawdata1':\n",
    "        df[\"CATEGORY_ID\"] = df[\"CATEGORY_ID\"].astype('str')\n",
    "        df.insert(1,'HALF YEAR',col)\n",
    "    else:\n",
    "        df.insert(0,'HALF YEAR',col)\n",
    "        \n",
    "    df = df.drop(['YEAR','MONTH','half year'], axis=1)\n",
    "    df = df.set_index('DATE')\n",
    "    \n",
    "    df[\"STORE\"] = df[\"STORE\"].astype('int')\n",
    "    df[\"DAYPART\"] = df[\"DAYPART\"].astype('str')\n",
    "    \n",
    "    return df\n",
    "\n",
    "\n",
    "# a function to produce pivots that help with store-level daypart view\n",
    "def daypart_view(df,st1,st2,dp):\n",
    "    df = rawdata2[(rawdata2['STORE']==st1) | (rawdata2['STORE']==st2)]\n",
    "    df = df[df['DAYPART']==dp]\n",
    "\n",
    "    df = pd.pivot_table(df, values='CUSTOMER_COUNT', index=['STORE'],\n",
    "                           columns=['HALF YEAR'], aggfunc=\"sum\")\n",
    "    df.columns.name = None\n",
    "\n",
    "    column_to_move = df.pop(\"H1-2019\")\n",
    "    df.insert(2, \"H1-2019\", column_to_move)\n",
    "    \n",
    "    return df\n",
    "\n",
    "\n",
    "# Settings\n",
    "pd.set_option('display.max_columns', 50)\n",
    "os.chdir('C:/Users/darre/Documents/Restaurant-Pricing')"
   ]
  },
  {
   "cell_type": "code",
   "execution_count": 2,
   "id": "2df45268",
   "metadata": {},
   "outputs": [],
   "source": [
    "rawdata1 = pd.read_csv('RAWDATA1.csv')\n",
    "rawdata2 = pd.read_csv('RAWDATA2.csv')\n",
    "rawdata3 = pd.read_csv('RAWDATA3.csv')\n",
    "rawdata4 = pd.read_csv('RAWDATA4.csv')"
   ]
  },
  {
   "cell_type": "markdown",
   "id": "f688c00a",
   "metadata": {},
   "source": [
    "# Clean-Up on Data"
   ]
  },
  {
   "cell_type": "markdown",
   "id": "a2b73af2",
   "metadata": {},
   "source": [
    "## RawDate1"
   ]
  },
  {
   "cell_type": "code",
   "execution_count": 3,
   "id": "888531a9",
   "metadata": {},
   "outputs": [
    {
     "data": {
      "text/html": [
       "<div>\n",
       "<style scoped>\n",
       "    .dataframe tbody tr th:only-of-type {\n",
       "        vertical-align: middle;\n",
       "    }\n",
       "\n",
       "    .dataframe tbody tr th {\n",
       "        vertical-align: top;\n",
       "    }\n",
       "\n",
       "    .dataframe thead th {\n",
       "        text-align: right;\n",
       "    }\n",
       "</style>\n",
       "<table border=\"1\" class=\"dataframe\">\n",
       "  <thead>\n",
       "    <tr style=\"text-align: right;\">\n",
       "      <th></th>\n",
       "      <th>YEAR</th>\n",
       "      <th>MONTH</th>\n",
       "      <th>STORE</th>\n",
       "      <th>DAYPART</th>\n",
       "      <th>CATEGORY_ID</th>\n",
       "      <th>REVENUE_NET</th>\n",
       "      <th>QTY</th>\n",
       "    </tr>\n",
       "  </thead>\n",
       "  <tbody>\n",
       "    <tr>\n",
       "      <th>0</th>\n",
       "      <td>2018</td>\n",
       "      <td>1</td>\n",
       "      <td>1</td>\n",
       "      <td>B</td>\n",
       "      <td>10</td>\n",
       "      <td>11700</td>\n",
       "      <td>2050</td>\n",
       "    </tr>\n",
       "    <tr>\n",
       "      <th>1</th>\n",
       "      <td>2018</td>\n",
       "      <td>1</td>\n",
       "      <td>1</td>\n",
       "      <td>D</td>\n",
       "      <td>10</td>\n",
       "      <td>3700</td>\n",
       "      <td>570</td>\n",
       "    </tr>\n",
       "    <tr>\n",
       "      <th>2</th>\n",
       "      <td>2018</td>\n",
       "      <td>1</td>\n",
       "      <td>1</td>\n",
       "      <td>L</td>\n",
       "      <td>10</td>\n",
       "      <td>7700</td>\n",
       "      <td>1270</td>\n",
       "    </tr>\n",
       "  </tbody>\n",
       "</table>\n",
       "</div>"
      ],
      "text/plain": [
       "   YEAR  MONTH  STORE DAYPART  CATEGORY_ID  REVENUE_NET   QTY\n",
       "0  2018      1      1       B           10        11700  2050\n",
       "1  2018      1      1       D           10         3700   570\n",
       "2  2018      1      1       L           10         7700  1270"
      ]
     },
     "execution_count": 3,
     "metadata": {},
     "output_type": "execute_result"
    }
   ],
   "source": [
    "rawdata1.head(3)"
   ]
  },
  {
   "cell_type": "code",
   "execution_count": 4,
   "id": "e4afe73c",
   "metadata": {},
   "outputs": [
    {
     "data": {
      "text/html": [
       "<div>\n",
       "<style scoped>\n",
       "    .dataframe tbody tr th:only-of-type {\n",
       "        vertical-align: middle;\n",
       "    }\n",
       "\n",
       "    .dataframe tbody tr th {\n",
       "        vertical-align: top;\n",
       "    }\n",
       "\n",
       "    .dataframe thead th {\n",
       "        text-align: right;\n",
       "    }\n",
       "</style>\n",
       "<table border=\"1\" class=\"dataframe\">\n",
       "  <thead>\n",
       "    <tr style=\"text-align: right;\">\n",
       "      <th></th>\n",
       "      <th>HALF YEAR</th>\n",
       "      <th>STORE</th>\n",
       "      <th>DAYPART</th>\n",
       "      <th>CATEGORY_ID</th>\n",
       "      <th>REVENUE_NET</th>\n",
       "      <th>QTY</th>\n",
       "    </tr>\n",
       "    <tr>\n",
       "      <th>DATE</th>\n",
       "      <th></th>\n",
       "      <th></th>\n",
       "      <th></th>\n",
       "      <th></th>\n",
       "      <th></th>\n",
       "      <th></th>\n",
       "    </tr>\n",
       "  </thead>\n",
       "  <tbody>\n",
       "    <tr>\n",
       "      <th>2018-01-01</th>\n",
       "      <td>H1-2018</td>\n",
       "      <td>1</td>\n",
       "      <td>B</td>\n",
       "      <td>10</td>\n",
       "      <td>11700</td>\n",
       "      <td>2050</td>\n",
       "    </tr>\n",
       "    <tr>\n",
       "      <th>2018-01-01</th>\n",
       "      <td>H1-2018</td>\n",
       "      <td>1</td>\n",
       "      <td>D</td>\n",
       "      <td>10</td>\n",
       "      <td>3700</td>\n",
       "      <td>570</td>\n",
       "    </tr>\n",
       "    <tr>\n",
       "      <th>2018-01-01</th>\n",
       "      <td>H1-2018</td>\n",
       "      <td>1</td>\n",
       "      <td>L</td>\n",
       "      <td>10</td>\n",
       "      <td>7700</td>\n",
       "      <td>1270</td>\n",
       "    </tr>\n",
       "  </tbody>\n",
       "</table>\n",
       "</div>"
      ],
      "text/plain": [
       "           HALF YEAR  STORE DAYPART CATEGORY_ID  REVENUE_NET   QTY\n",
       "DATE                                                              \n",
       "2018-01-01   H1-2018      1       B          10        11700  2050\n",
       "2018-01-01   H1-2018      1       D          10         3700   570\n",
       "2018-01-01   H1-2018      1       L          10         7700  1270"
      ]
     },
     "execution_count": 4,
     "metadata": {},
     "output_type": "execute_result"
    }
   ],
   "source": [
    "rawdata1 = clean_up(rawdata1,ds='rawdata1')\n",
    "rawdata1.head(3)"
   ]
  },
  {
   "cell_type": "markdown",
   "id": "0e6fa893",
   "metadata": {},
   "source": [
    "## RawDate2"
   ]
  },
  {
   "cell_type": "code",
   "execution_count": 5,
   "id": "6519d97f",
   "metadata": {},
   "outputs": [
    {
     "data": {
      "text/html": [
       "<div>\n",
       "<style scoped>\n",
       "    .dataframe tbody tr th:only-of-type {\n",
       "        vertical-align: middle;\n",
       "    }\n",
       "\n",
       "    .dataframe tbody tr th {\n",
       "        vertical-align: top;\n",
       "    }\n",
       "\n",
       "    .dataframe thead th {\n",
       "        text-align: right;\n",
       "    }\n",
       "</style>\n",
       "<table border=\"1\" class=\"dataframe\">\n",
       "  <thead>\n",
       "    <tr style=\"text-align: right;\">\n",
       "      <th></th>\n",
       "      <th>STORE</th>\n",
       "      <th>DAYPART</th>\n",
       "      <th>YEAR</th>\n",
       "      <th>MONTH</th>\n",
       "      <th>CUSTOMER_COUNT</th>\n",
       "    </tr>\n",
       "  </thead>\n",
       "  <tbody>\n",
       "    <tr>\n",
       "      <th>0</th>\n",
       "      <td>1</td>\n",
       "      <td>B</td>\n",
       "      <td>2018</td>\n",
       "      <td>1</td>\n",
       "      <td>3312</td>\n",
       "    </tr>\n",
       "    <tr>\n",
       "      <th>1</th>\n",
       "      <td>1</td>\n",
       "      <td>B</td>\n",
       "      <td>2018</td>\n",
       "      <td>2</td>\n",
       "      <td>3366</td>\n",
       "    </tr>\n",
       "    <tr>\n",
       "      <th>2</th>\n",
       "      <td>1</td>\n",
       "      <td>B</td>\n",
       "      <td>2018</td>\n",
       "      <td>3</td>\n",
       "      <td>4116</td>\n",
       "    </tr>\n",
       "  </tbody>\n",
       "</table>\n",
       "</div>"
      ],
      "text/plain": [
       "   STORE DAYPART  YEAR  MONTH  CUSTOMER_COUNT\n",
       "0      1       B  2018      1            3312\n",
       "1      1       B  2018      2            3366\n",
       "2      1       B  2018      3            4116"
      ]
     },
     "execution_count": 5,
     "metadata": {},
     "output_type": "execute_result"
    }
   ],
   "source": [
    "rawdata2.head(3)"
   ]
  },
  {
   "cell_type": "code",
   "execution_count": 6,
   "id": "f16a96f5",
   "metadata": {},
   "outputs": [
    {
     "data": {
      "text/html": [
       "<div>\n",
       "<style scoped>\n",
       "    .dataframe tbody tr th:only-of-type {\n",
       "        vertical-align: middle;\n",
       "    }\n",
       "\n",
       "    .dataframe tbody tr th {\n",
       "        vertical-align: top;\n",
       "    }\n",
       "\n",
       "    .dataframe thead th {\n",
       "        text-align: right;\n",
       "    }\n",
       "</style>\n",
       "<table border=\"1\" class=\"dataframe\">\n",
       "  <thead>\n",
       "    <tr style=\"text-align: right;\">\n",
       "      <th></th>\n",
       "      <th>HALF YEAR</th>\n",
       "      <th>STORE</th>\n",
       "      <th>DAYPART</th>\n",
       "      <th>CUSTOMER_COUNT</th>\n",
       "    </tr>\n",
       "    <tr>\n",
       "      <th>DATE</th>\n",
       "      <th></th>\n",
       "      <th></th>\n",
       "      <th></th>\n",
       "      <th></th>\n",
       "    </tr>\n",
       "  </thead>\n",
       "  <tbody>\n",
       "    <tr>\n",
       "      <th>2018-01-01</th>\n",
       "      <td>H1-2018</td>\n",
       "      <td>1</td>\n",
       "      <td>B</td>\n",
       "      <td>3312</td>\n",
       "    </tr>\n",
       "    <tr>\n",
       "      <th>2018-02-01</th>\n",
       "      <td>H1-2018</td>\n",
       "      <td>1</td>\n",
       "      <td>B</td>\n",
       "      <td>3366</td>\n",
       "    </tr>\n",
       "    <tr>\n",
       "      <th>2018-03-01</th>\n",
       "      <td>H1-2018</td>\n",
       "      <td>1</td>\n",
       "      <td>B</td>\n",
       "      <td>4116</td>\n",
       "    </tr>\n",
       "  </tbody>\n",
       "</table>\n",
       "</div>"
      ],
      "text/plain": [
       "           HALF YEAR  STORE DAYPART  CUSTOMER_COUNT\n",
       "DATE                                               \n",
       "2018-01-01   H1-2018      1       B            3312\n",
       "2018-02-01   H1-2018      1       B            3366\n",
       "2018-03-01   H1-2018      1       B            4116"
      ]
     },
     "execution_count": 6,
     "metadata": {},
     "output_type": "execute_result"
    }
   ],
   "source": [
    "rawdata2 = clean_up(rawdata2,ds='rawdata2')\n",
    "rawdata2.head(3)"
   ]
  },
  {
   "cell_type": "markdown",
   "id": "39ab4844",
   "metadata": {},
   "source": [
    "## RawDate3"
   ]
  },
  {
   "cell_type": "code",
   "execution_count": 7,
   "id": "143f9e82",
   "metadata": {},
   "outputs": [
    {
     "data": {
      "text/html": [
       "<div>\n",
       "<style scoped>\n",
       "    .dataframe tbody tr th:only-of-type {\n",
       "        vertical-align: middle;\n",
       "    }\n",
       "\n",
       "    .dataframe tbody tr th {\n",
       "        vertical-align: top;\n",
       "    }\n",
       "\n",
       "    .dataframe thead th {\n",
       "        text-align: right;\n",
       "    }\n",
       "</style>\n",
       "<table border=\"1\" class=\"dataframe\">\n",
       "  <thead>\n",
       "    <tr style=\"text-align: right;\">\n",
       "      <th></th>\n",
       "      <th>CITY</th>\n",
       "      <th>STATE</th>\n",
       "      <th>NAME</th>\n",
       "      <th>AREA</th>\n",
       "      <th>REGIONAL_DIRECTOR</th>\n",
       "      <th>REGION</th>\n",
       "    </tr>\n",
       "    <tr>\n",
       "      <th>STORE</th>\n",
       "      <th></th>\n",
       "      <th></th>\n",
       "      <th></th>\n",
       "      <th></th>\n",
       "      <th></th>\n",
       "      <th></th>\n",
       "    </tr>\n",
       "  </thead>\n",
       "  <tbody>\n",
       "    <tr>\n",
       "      <th>1</th>\n",
       "      <td>RIO GRANDE</td>\n",
       "      <td>OH</td>\n",
       "      <td>RIO GRANDE</td>\n",
       "      <td>1</td>\n",
       "      <td>GREEN, JOE</td>\n",
       "      <td>GRANDE, OH</td>\n",
       "    </tr>\n",
       "    <tr>\n",
       "      <th>2</th>\n",
       "      <td>CHILLICOTHE</td>\n",
       "      <td>OH</td>\n",
       "      <td>CHILLICOTHE</td>\n",
       "      <td>26</td>\n",
       "      <td>YELLOW, JAMES</td>\n",
       "      <td>CHILLICOTHE, OH</td>\n",
       "    </tr>\n",
       "    <tr>\n",
       "      <th>3</th>\n",
       "      <td>COLUMBUS</td>\n",
       "      <td>OH</td>\n",
       "      <td>ROUTE 161</td>\n",
       "      <td>7</td>\n",
       "      <td>YELLOW, JAMES</td>\n",
       "      <td>COLUMBUS, OH</td>\n",
       "    </tr>\n",
       "  </tbody>\n",
       "</table>\n",
       "</div>"
      ],
      "text/plain": [
       "              CITY STATE         NAME  AREA REGIONAL_DIRECTOR           REGION\n",
       "STORE                                                                         \n",
       "1       RIO GRANDE    OH   RIO GRANDE     1        GREEN, JOE       GRANDE, OH\n",
       "2      CHILLICOTHE    OH  CHILLICOTHE    26     YELLOW, JAMES  CHILLICOTHE, OH\n",
       "3         COLUMBUS    OH    ROUTE 161     7     YELLOW, JAMES     COLUMBUS, OH"
      ]
     },
     "execution_count": 7,
     "metadata": {},
     "output_type": "execute_result"
    }
   ],
   "source": [
    "rawdata3 = rawdata3.set_index('STORE')\n",
    "rawdata3.head(3)"
   ]
  },
  {
   "cell_type": "markdown",
   "id": "712afe25",
   "metadata": {},
   "source": [
    "## RawDate4"
   ]
  },
  {
   "cell_type": "code",
   "execution_count": 8,
   "id": "02ec3977",
   "metadata": {},
   "outputs": [
    {
     "data": {
      "text/html": [
       "<div>\n",
       "<style scoped>\n",
       "    .dataframe tbody tr th:only-of-type {\n",
       "        vertical-align: middle;\n",
       "    }\n",
       "\n",
       "    .dataframe tbody tr th {\n",
       "        vertical-align: top;\n",
       "    }\n",
       "\n",
       "    .dataframe thead th {\n",
       "        text-align: right;\n",
       "    }\n",
       "</style>\n",
       "<table border=\"1\" class=\"dataframe\">\n",
       "  <thead>\n",
       "    <tr style=\"text-align: right;\">\n",
       "      <th></th>\n",
       "      <th>CATEGORY_DESC</th>\n",
       "      <th>COMMENTS</th>\n",
       "    </tr>\n",
       "    <tr>\n",
       "      <th>CATEGORY_ID</th>\n",
       "      <th></th>\n",
       "      <th></th>\n",
       "    </tr>\n",
       "  </thead>\n",
       "  <tbody>\n",
       "    <tr>\n",
       "      <th>10</th>\n",
       "      <td>BREAKFAST</td>\n",
       "      <td>Breakfast items</td>\n",
       "    </tr>\n",
       "    <tr>\n",
       "      <th>15</th>\n",
       "      <td>SENIORS MEALS</td>\n",
       "      <td>Seniors Meals</td>\n",
       "    </tr>\n",
       "    <tr>\n",
       "      <th>20</th>\n",
       "      <td>DINNER</td>\n",
       "      <td>Dinner items</td>\n",
       "    </tr>\n",
       "    <tr>\n",
       "      <th>25</th>\n",
       "      <td>DINNER ALA</td>\n",
       "      <td>Dinner a-la carte items</td>\n",
       "    </tr>\n",
       "  </tbody>\n",
       "</table>\n",
       "</div>"
      ],
      "text/plain": [
       "             CATEGORY_DESC                 COMMENTS\n",
       "CATEGORY_ID                                        \n",
       "10               BREAKFAST          Breakfast items\n",
       "15           SENIORS MEALS            Seniors Meals\n",
       "20                  DINNER             Dinner items\n",
       "25              DINNER ALA  Dinner a-la carte items"
      ]
     },
     "execution_count": 8,
     "metadata": {},
     "output_type": "execute_result"
    }
   ],
   "source": [
    "rawdata4 = rawdata4.set_index('CATEGORY_ID')\n",
    "rawdata4.head(4)"
   ]
  },
  {
   "cell_type": "markdown",
   "id": "8e710236",
   "metadata": {},
   "source": [
    "# Preliminary Analysis"
   ]
  },
  {
   "cell_type": "markdown",
   "id": "1cc57921",
   "metadata": {},
   "source": [
    "## System Wide View"
   ]
  },
  {
   "cell_type": "code",
   "execution_count": 9,
   "id": "99cbff7b",
   "metadata": {},
   "outputs": [],
   "source": [
    "rawdata1_A = rawdata1.groupby(['HALF YEAR'])['REVENUE_NET'].sum().to_frame().T"
   ]
  },
  {
   "cell_type": "code",
   "execution_count": 10,
   "id": "15155342",
   "metadata": {},
   "outputs": [
    {
     "data": {
      "text/html": [
       "<div>\n",
       "<style scoped>\n",
       "    .dataframe tbody tr th:only-of-type {\n",
       "        vertical-align: middle;\n",
       "    }\n",
       "\n",
       "    .dataframe tbody tr th {\n",
       "        vertical-align: top;\n",
       "    }\n",
       "\n",
       "    .dataframe thead th {\n",
       "        text-align: right;\n",
       "    }\n",
       "</style>\n",
       "<table border=\"1\" class=\"dataframe\">\n",
       "  <thead>\n",
       "    <tr style=\"text-align: right;\">\n",
       "      <th>HALF YEAR</th>\n",
       "      <th>H1-2018</th>\n",
       "      <th>H1-2019</th>\n",
       "      <th>H2-2018</th>\n",
       "    </tr>\n",
       "  </thead>\n",
       "  <tbody>\n",
       "    <tr>\n",
       "      <th>REVENUE_NET</th>\n",
       "      <td>8372700</td>\n",
       "      <td>8491200</td>\n",
       "      <td>8844600</td>\n",
       "    </tr>\n",
       "  </tbody>\n",
       "</table>\n",
       "</div>"
      ],
      "text/plain": [
       "HALF YEAR    H1-2018  H1-2019  H2-2018\n",
       "REVENUE_NET  8372700  8491200  8844600"
      ]
     },
     "execution_count": 10,
     "metadata": {},
     "output_type": "execute_result"
    }
   ],
   "source": [
    "rawdata1_A"
   ]
  },
  {
   "cell_type": "code",
   "execution_count": 11,
   "id": "db8d1068",
   "metadata": {},
   "outputs": [
    {
     "data": {
      "image/png": "[encoded data removed]",
      "text/plain": [
       "<Figure size 800x500 with 1 Axes>"
      ]
     },
     "metadata": {},
     "output_type": "display_data"
    }
   ],
   "source": [
    "labels = rawdata1_A.index # Days\n",
    "\n",
    "H1_2018 = rawdata1_A['H1-2018']\n",
    "H1_2019 = rawdata1_A['H1-2019']\n",
    "\n",
    "x = np.arange(len(labels)) # location of x ticks\n",
    "width = 0.4 # width of bars\n",
    "\n",
    "fig, ax = plt.subplots(figsize=(8,5))\n",
    "p1 = ax.bar(x - width/2, H1_2018, width, label = \"H1_2018\")\n",
    "p2 = ax.bar(x + width/2, H1_2019, width, label = \"H1_2019\")\n",
    "\n",
    "#labels\n",
    "ax.set_ylabel('Net Revenues ($)')\n",
    "ax.set_xticks(x)\n",
    "ax.set_xticklabels(labels)\n",
    "ax.set_ylim(0,10500000)\n",
    "\n",
    "ax.bar_label(p1, padding=3, fmt=\"$%.0f\")\n",
    "ax.bar_label(p2, padding=3, fmt=\"$%.0f\")\n",
    "\n",
    "ax.yaxis.set_major_formatter(\"${x:,.0f}\")\n",
    "\n",
    "ax.legend()\n",
    "\n",
    "fig.tight_layout()\n",
    "plt.show()"
   ]
  },
  {
   "cell_type": "code",
   "execution_count": 12,
   "id": "96b2f9c2",
   "metadata": {},
   "outputs": [],
   "source": [
    "rawdata2_A = rawdata2.groupby(['HALF YEAR'])['CUSTOMER_COUNT'].sum().to_frame().T"
   ]
  },
  {
   "cell_type": "code",
   "execution_count": 13,
   "id": "2352417a",
   "metadata": {},
   "outputs": [
    {
     "data": {
      "text/html": [
       "<div>\n",
       "<style scoped>\n",
       "    .dataframe tbody tr th:only-of-type {\n",
       "        vertical-align: middle;\n",
       "    }\n",
       "\n",
       "    .dataframe tbody tr th {\n",
       "        vertical-align: top;\n",
       "    }\n",
       "\n",
       "    .dataframe thead th {\n",
       "        text-align: right;\n",
       "    }\n",
       "</style>\n",
       "<table border=\"1\" class=\"dataframe\">\n",
       "  <thead>\n",
       "    <tr style=\"text-align: right;\">\n",
       "      <th>HALF YEAR</th>\n",
       "      <th>H1-2018</th>\n",
       "      <th>H1-2019</th>\n",
       "      <th>H2-2018</th>\n",
       "    </tr>\n",
       "  </thead>\n",
       "  <tbody>\n",
       "    <tr>\n",
       "      <th>CUSTOMER_COUNT</th>\n",
       "      <td>1177789</td>\n",
       "      <td>1136657</td>\n",
       "      <td>1241249</td>\n",
       "    </tr>\n",
       "  </tbody>\n",
       "</table>\n",
       "</div>"
      ],
      "text/plain": [
       "HALF YEAR       H1-2018  H1-2019  H2-2018\n",
       "CUSTOMER_COUNT  1177789  1136657  1241249"
      ]
     },
     "execution_count": 13,
     "metadata": {},
     "output_type": "execute_result"
    }
   ],
   "source": [
    "rawdata2_A"
   ]
  },
  {
   "cell_type": "code",
   "execution_count": 14,
   "id": "c8214c54",
   "metadata": {},
   "outputs": [
    {
     "data": {
      "image/png": "[encoded data removed]",
      "text/plain": [
       "<Figure size 800x500 with 1 Axes>"
      ]
     },
     "metadata": {},
     "output_type": "display_data"
    }
   ],
   "source": [
    "labels = rawdata2_A.index # Days\n",
    "\n",
    "H1_2018 = rawdata2_A['H1-2018']\n",
    "H1_2019 = rawdata2_A['H1-2019']\n",
    "\n",
    "x = np.arange(len(labels)) # location of x ticks\n",
    "width = 0.4 # width of bars\n",
    "\n",
    "fig, ax = plt.subplots(figsize=(8,5))\n",
    "p1 = ax.bar(x - width/2, H1_2018, width, label = \"H1_2018\")\n",
    "p2 = ax.bar(x + width/2, H1_2019, width, label = \"H1_2019\")\n",
    "\n",
    "#labels\n",
    "ax.set_ylabel('Customer Count')\n",
    "ax.set_xticks(x)\n",
    "ax.set_ylim(0,1350000)\n",
    "\n",
    "ax.bar_label(p1, padding=3, fmt=\"%.0f\")\n",
    "ax.bar_label(p2, padding=3, fmt=\"%.0f\")\n",
    "\n",
    "ax.yaxis.set_major_formatter(\"{x:,.0f}\")\n",
    "\n",
    "ax.legend()\n",
    "\n",
    "fig.tight_layout()\n",
    "plt.show()"
   ]
  },
  {
   "cell_type": "markdown",
   "id": "57909fab",
   "metadata": {},
   "source": [
    "## Daypart Level View"
   ]
  },
  {
   "cell_type": "code",
   "execution_count": 15,
   "id": "49258e39",
   "metadata": {},
   "outputs": [],
   "source": [
    "rawdata2_B = pd.pivot_table(rawdata2, values='CUSTOMER_COUNT', index=['DAYPART'],\n",
    "                       columns=['HALF YEAR'], aggfunc=\"sum\")\n",
    "rawdata2_B.columns.name = None\n",
    "\n",
    "column_to_move = rawdata2_B.pop(\"H1-2019\")\n",
    "rawdata2_B.insert(2, \"H1-2019\", column_to_move)"
   ]
  },
  {
   "cell_type": "code",
   "execution_count": 16,
   "id": "82c0c388",
   "metadata": {},
   "outputs": [
    {
     "data": {
      "text/html": [
       "<div>\n",
       "<style scoped>\n",
       "    .dataframe tbody tr th:only-of-type {\n",
       "        vertical-align: middle;\n",
       "    }\n",
       "\n",
       "    .dataframe tbody tr th {\n",
       "        vertical-align: top;\n",
       "    }\n",
       "\n",
       "    .dataframe thead th {\n",
       "        text-align: right;\n",
       "    }\n",
       "</style>\n",
       "<table border=\"1\" class=\"dataframe\">\n",
       "  <thead>\n",
       "    <tr style=\"text-align: right;\">\n",
       "      <th></th>\n",
       "      <th>H1-2018</th>\n",
       "      <th>H2-2018</th>\n",
       "      <th>H1-2019</th>\n",
       "    </tr>\n",
       "    <tr>\n",
       "      <th>DAYPART</th>\n",
       "      <th></th>\n",
       "      <th></th>\n",
       "      <th></th>\n",
       "    </tr>\n",
       "  </thead>\n",
       "  <tbody>\n",
       "    <tr>\n",
       "      <th>B</th>\n",
       "      <td>381138</td>\n",
       "      <td>400542</td>\n",
       "      <td>351877</td>\n",
       "    </tr>\n",
       "    <tr>\n",
       "      <th>D</th>\n",
       "      <td>342721</td>\n",
       "      <td>363090</td>\n",
       "      <td>341040</td>\n",
       "    </tr>\n",
       "    <tr>\n",
       "      <th>L</th>\n",
       "      <td>453930</td>\n",
       "      <td>477617</td>\n",
       "      <td>443740</td>\n",
       "    </tr>\n",
       "  </tbody>\n",
       "</table>\n",
       "</div>"
      ],
      "text/plain": [
       "         H1-2018  H2-2018  H1-2019\n",
       "DAYPART                           \n",
       "B         381138   400542   351877\n",
       "D         342721   363090   341040\n",
       "L         453930   477617   443740"
      ]
     },
     "execution_count": 16,
     "metadata": {},
     "output_type": "execute_result"
    }
   ],
   "source": [
    "rawdata2_B"
   ]
  },
  {
   "cell_type": "code",
   "execution_count": 17,
   "id": "6a4b52ce",
   "metadata": {},
   "outputs": [
    {
     "data": {
      "image/png": "[encoded data removed]",
      "text/plain": [
       "<Figure size 800x500 with 1 Axes>"
      ]
     },
     "metadata": {},
     "output_type": "display_data"
    }
   ],
   "source": [
    "labels = rawdata2_B.index # Days\n",
    "\n",
    "H1_2018 = rawdata2_B['H1-2018']\n",
    "H2_2018 = rawdata2_B['H2-2018']\n",
    "H1_2019 = rawdata2_B['H1-2019']\n",
    "\n",
    "x = np.arange(len(labels)) # location of x ticks\n",
    "width = 0.4 # width of bars\n",
    "\n",
    "fig, ax = plt.subplots(figsize=(8,5))\n",
    "p1 = ax.bar(x - width/2, H1_2018, width, label = \"H1_2018\")\n",
    "p2 = ax.bar(x + width/2, H1_2019, width, label = \"H1_2019\")\n",
    "\n",
    "#labels\n",
    "ax.set_ylabel('Customer Count')\n",
    "ax.set_xlabel('Daypart')\n",
    "ax.set_xticks(x)\n",
    "ax.set_xticklabels(labels)\n",
    "ax.set_ylim(0,500000)\n",
    "ax.legend()\n",
    "\n",
    "ax.bar_label(p1, padding=3, fmt=\"%.0f\")\n",
    "ax.bar_label(p2, padding=3, fmt=\"%.0f\")\n",
    "\n",
    "fig.tight_layout()\n",
    "plt.show()"
   ]
  },
  {
   "cell_type": "markdown",
   "id": "28d521a1",
   "metadata": {},
   "source": [
    "## Store Level View"
   ]
  },
  {
   "cell_type": "code",
   "execution_count": 18,
   "id": "fd817857",
   "metadata": {},
   "outputs": [],
   "source": [
    "rawdata2_C = pd.pivot_table(rawdata2, values='CUSTOMER_COUNT', index=['STORE'],\n",
    "                       columns=['HALF YEAR'], aggfunc=\"sum\")\n",
    "rawdata2_C.columns.name = None\n",
    "\n",
    "column_to_move = rawdata2_C.pop(\"H1-2019\")\n",
    "rawdata2_C.insert(2, \"H1-2019\", column_to_move)"
   ]
  },
  {
   "cell_type": "code",
   "execution_count": 19,
   "id": "944d55d5",
   "metadata": {},
   "outputs": [
    {
     "data": {
      "text/html": [
       "<div>\n",
       "<style scoped>\n",
       "    .dataframe tbody tr th:only-of-type {\n",
       "        vertical-align: middle;\n",
       "    }\n",
       "\n",
       "    .dataframe tbody tr th {\n",
       "        vertical-align: top;\n",
       "    }\n",
       "\n",
       "    .dataframe thead th {\n",
       "        text-align: right;\n",
       "    }\n",
       "</style>\n",
       "<table border=\"1\" class=\"dataframe\">\n",
       "  <thead>\n",
       "    <tr style=\"text-align: right;\">\n",
       "      <th></th>\n",
       "      <th>H1-2018</th>\n",
       "      <th>H2-2018</th>\n",
       "      <th>H1-2019</th>\n",
       "    </tr>\n",
       "    <tr>\n",
       "      <th>STORE</th>\n",
       "      <th></th>\n",
       "      <th></th>\n",
       "      <th></th>\n",
       "    </tr>\n",
       "  </thead>\n",
       "  <tbody>\n",
       "    <tr>\n",
       "      <th>1</th>\n",
       "      <td>106278</td>\n",
       "      <td>116647</td>\n",
       "      <td>104287</td>\n",
       "    </tr>\n",
       "    <tr>\n",
       "      <th>2</th>\n",
       "      <td>142544</td>\n",
       "      <td>157363</td>\n",
       "      <td>146512</td>\n",
       "    </tr>\n",
       "    <tr>\n",
       "      <th>3</th>\n",
       "      <td>116876</td>\n",
       "      <td>122008</td>\n",
       "      <td>110326</td>\n",
       "    </tr>\n",
       "    <tr>\n",
       "      <th>4</th>\n",
       "      <td>62613</td>\n",
       "      <td>66529</td>\n",
       "      <td>63869</td>\n",
       "    </tr>\n",
       "    <tr>\n",
       "      <th>5</th>\n",
       "      <td>139471</td>\n",
       "      <td>139406</td>\n",
       "      <td>121467</td>\n",
       "    </tr>\n",
       "    <tr>\n",
       "      <th>6</th>\n",
       "      <td>126592</td>\n",
       "      <td>131135</td>\n",
       "      <td>120917</td>\n",
       "    </tr>\n",
       "    <tr>\n",
       "      <th>7</th>\n",
       "      <td>172346</td>\n",
       "      <td>185004</td>\n",
       "      <td>177573</td>\n",
       "    </tr>\n",
       "    <tr>\n",
       "      <th>8</th>\n",
       "      <td>91438</td>\n",
       "      <td>98029</td>\n",
       "      <td>88896</td>\n",
       "    </tr>\n",
       "    <tr>\n",
       "      <th>9</th>\n",
       "      <td>85228</td>\n",
       "      <td>86460</td>\n",
       "      <td>82571</td>\n",
       "    </tr>\n",
       "    <tr>\n",
       "      <th>10</th>\n",
       "      <td>134403</td>\n",
       "      <td>138668</td>\n",
       "      <td>120239</td>\n",
       "    </tr>\n",
       "  </tbody>\n",
       "</table>\n",
       "</div>"
      ],
      "text/plain": [
       "       H1-2018  H2-2018  H1-2019\n",
       "STORE                           \n",
       "1       106278   116647   104287\n",
       "2       142544   157363   146512\n",
       "3       116876   122008   110326\n",
       "4        62613    66529    63869\n",
       "5       139471   139406   121467\n",
       "6       126592   131135   120917\n",
       "7       172346   185004   177573\n",
       "8        91438    98029    88896\n",
       "9        85228    86460    82571\n",
       "10      134403   138668   120239"
      ]
     },
     "execution_count": 19,
     "metadata": {},
     "output_type": "execute_result"
    }
   ],
   "source": [
    "rawdata2_C.head(10)"
   ]
  },
  {
   "cell_type": "code",
   "execution_count": 20,
   "id": "7f24b479",
   "metadata": {},
   "outputs": [
    {
     "data": {
      "image/png": "[encoded data removed]",
      "text/plain": [
       "<Figure size 640x480 with 1 Axes>"
      ]
     },
     "metadata": {},
     "output_type": "display_data"
    }
   ],
   "source": [
    "labels = rawdata2_C.index # Days\n",
    "\n",
    "H1_2018 = rawdata2_C['H1-2018']\n",
    "H1_2019 = rawdata2_C['H1-2019']\n",
    "\n",
    "x = np.arange(len(labels)) # location of x ticks\n",
    "width = 0.3 # width of bars\n",
    "\n",
    "fig, ax = plt.subplots()\n",
    "p1 = ax.bar(x - width/2, H1_2018, width, label = \"H1_2018\")\n",
    "p2 = ax.bar(x + width/2, H1_2019, width, label = \"H1_2019\")\n",
    "\n",
    "#labels\n",
    "ax.set_ylabel('Customer Count')\n",
    "ax.set_xlabel('Store')\n",
    "ax.set_xticks(x)\n",
    "ax.set_xticklabels(labels)\n",
    "ax.legend()\n",
    "\n",
    "fig.tight_layout()\n",
    "plt.show()"
   ]
  },
  {
   "cell_type": "markdown",
   "id": "817663cd",
   "metadata": {},
   "source": [
    "## Stores 5 and 10 By Daypart"
   ]
  },
  {
   "cell_type": "code",
   "execution_count": 21,
   "id": "80bd3fb4",
   "metadata": {},
   "outputs": [],
   "source": [
    "view_br = daypart_view(rawdata2,5,10,'B')\n",
    "view_lnch = daypart_view(rawdata2,5,10,'L')\n",
    "view_dnr = daypart_view(rawdata2,5,10,'D')\n",
    "\n",
    "daypart_list = [view_br,view_lnch,view_dnr]"
   ]
  },
  {
   "cell_type": "code",
   "execution_count": 22,
   "id": "1edfa9a4",
   "metadata": {},
   "outputs": [
    {
     "data": {
      "image/png": "[encoded data removed]",
      "text/plain": [
       "<Figure size 1400x500 with 3 Axes>"
      ]
     },
     "metadata": {},
     "output_type": "display_data"
    }
   ],
   "source": [
    "fig, ax = plt.subplots(1,3,figsize=(14,5),sharey=True)\n",
    "\n",
    "# plot1\n",
    "df_br = daypart_list[0]\n",
    "labels = df_br.index # Days\n",
    "H1_2018 = df_br['H1-2018']\n",
    "H1_2019 = df_br['H1-2019']\n",
    "x = np.arange(len(labels)) # location of x ticks\n",
    "width = 0.45 # width of bars\n",
    "p1 = ax[0].bar(x - width/2, H1_2018, width, label = \"H1_2018\")\n",
    "p2 = ax[0].bar(x + width/2, H1_2019, width, label = \"H1_2019\")\n",
    "#labels\n",
    "ax[0].set_ylabel('Customer Count')\n",
    "ax[0].set_xlabel('Breakfast')\n",
    "ax[0].set_xticks(x)\n",
    "ax[0].set_xticklabels(labels)\n",
    "ax[0].legend(bbox_to_anchor=(0.9, -0.2),ncol=2)\n",
    "\n",
    "# plot2\n",
    "df_lnch = daypart_list[1]\n",
    "labels = df_lnch.index # Days\n",
    "H1_2018 = df_lnch['H1-2018']\n",
    "H1_2019 = df_lnch['H1-2019']\n",
    "x = np.arange(len(labels)) # location of x ticks\n",
    "width = 0.45 # width of bars\n",
    "p1 = ax[1].bar(x - width/2, H1_2018, width, label = \"H1_2018\")\n",
    "p2 = ax[1].bar(x + width/2, H1_2019, width, label = \"H1_2019\")\n",
    "#labels\n",
    "ax[1].set_ylabel('Customer Count')\n",
    "ax[1].set_xlabel('Lunch')\n",
    "ax[1].set_xticks(x)\n",
    "ax[1].set_xticklabels(labels)\n",
    "ax[1].legend(bbox_to_anchor=(0.9, -0.2),ncol=2)\n",
    "\n",
    "# plot3\n",
    "df_dnr = daypart_list[2]\n",
    "labels = df_dnr.index # Days\n",
    "H1_2018 = df_dnr['H1-2018']\n",
    "H1_2019 = df_dnr['H1-2019']\n",
    "x = np.arange(len(labels)) # location of x ticks\n",
    "width = 0.45 # width of bars\n",
    "p1 = ax[2].bar(x - width/2, H1_2018, width, label = \"H1_2018\")\n",
    "p2 = ax[2].bar(x + width/2, H1_2019, width, label = \"H1_2019\")\n",
    "#labels\n",
    "ax[2].set_ylabel('Customer Count')\n",
    "ax[2].set_xlabel('Dinner')\n",
    "ax[2].set_xticks(x)\n",
    "ax[2].set_xticklabels(labels)\n",
    "ax[2].legend(bbox_to_anchor=(0.9, -0.2),ncol=2)\n",
    "\n",
    "\n",
    "\n",
    "# fig.legend(bbox_to_anchor=(0.6, 0), ncol=2)\n",
    "# fig.tight_layout()\n",
    "plt.show()"
   ]
  },
  {
   "cell_type": "markdown",
   "id": "1a1a88fa",
   "metadata": {},
   "source": [
    "# Forecasting Exercise"
   ]
  },
  {
   "cell_type": "code",
   "execution_count": 23,
   "id": "eebe3da0",
   "metadata": {},
   "outputs": [
    {
     "data": {
      "image/png": "[encoded data removed]",
      "text/plain": [
       "<Figure size 900x400 with 1 Axes>"
      ]
     },
     "metadata": {},
     "output_type": "display_data"
    }
   ],
   "source": [
    "# producing and plotting the intial series\n",
    "rawdata1_frcst = rawdata1.groupby(['DATE'])['REVENUE_NET'].sum().to_frame()\n",
    "\n",
    "fig = plt.figure(figsize=(9,4)) # creating the figure object\n",
    "ax = fig.add_subplot() # creating the chart (axes?) object\n",
    "ax.set_title('Chart Title',\n",
    "             fontsize = 13) # title for the chart\n",
    "ax.plot(rawdata1_frcst.index,rawdata1_frcst['REVENUE_NET'],\n",
    "        color = 'tab:blue',\n",
    "        linewidth = 2)\n",
    "ax.set_xticks(ticks=rawdata1_frcst.index[::3],\n",
    "              labels = rawdata1_frcst.index[::3].strftime('%Y-%b'),\n",
    "              rotation=45,\n",
    "              ha='center',\n",
    "              fontsize = 11,\n",
    "              minor=False)\n",
    "ax.yaxis.set_major_formatter(\"${x:,.0f}\")\n",
    "plt.show()"
   ]
  },
  {
   "cell_type": "code",
   "execution_count": 24,
   "id": "d403e1f0",
   "metadata": {},
   "outputs": [
    {
     "data": {
      "text/html": [
       "<div>\n",
       "<style scoped>\n",
       "    .dataframe tbody tr th:only-of-type {\n",
       "        vertical-align: middle;\n",
       "    }\n",
       "\n",
       "    .dataframe tbody tr th {\n",
       "        vertical-align: top;\n",
       "    }\n",
       "\n",
       "    .dataframe thead th {\n",
       "        text-align: right;\n",
       "    }\n",
       "</style>\n",
       "<table border=\"1\" class=\"dataframe\">\n",
       "  <thead>\n",
       "    <tr style=\"text-align: right;\">\n",
       "      <th></th>\n",
       "      <th>lb_stat</th>\n",
       "      <th>lb_pvalue</th>\n",
       "    </tr>\n",
       "  </thead>\n",
       "  <tbody>\n",
       "    <tr>\n",
       "      <th>1</th>\n",
       "      <td>0.083959</td>\n",
       "      <td>0.772002</td>\n",
       "    </tr>\n",
       "    <tr>\n",
       "      <th>2</th>\n",
       "      <td>0.298484</td>\n",
       "      <td>0.861361</td>\n",
       "    </tr>\n",
       "    <tr>\n",
       "      <th>3</th>\n",
       "      <td>1.086487</td>\n",
       "      <td>0.780337</td>\n",
       "    </tr>\n",
       "    <tr>\n",
       "      <th>4</th>\n",
       "      <td>5.553595</td>\n",
       "      <td>0.235058</td>\n",
       "    </tr>\n",
       "    <tr>\n",
       "      <th>5</th>\n",
       "      <td>5.873238</td>\n",
       "      <td>0.318749</td>\n",
       "    </tr>\n",
       "    <tr>\n",
       "      <th>6</th>\n",
       "      <td>7.22881</td>\n",
       "      <td>0.300204</td>\n",
       "    </tr>\n",
       "    <tr>\n",
       "      <th>7</th>\n",
       "      <td>9.171865</td>\n",
       "      <td>0.240551</td>\n",
       "    </tr>\n",
       "    <tr>\n",
       "      <th>8</th>\n",
       "      <td>9.500623</td>\n",
       "      <td>0.301837</td>\n",
       "    </tr>\n",
       "    <tr>\n",
       "      <th>9</th>\n",
       "      <td>9.501373</td>\n",
       "      <td>0.392337</td>\n",
       "    </tr>\n",
       "    <tr>\n",
       "      <th>10</th>\n",
       "      <td>9.514684</td>\n",
       "      <td>0.484051</td>\n",
       "    </tr>\n",
       "    <tr>\n",
       "      <th>11</th>\n",
       "      <td>10.026122</td>\n",
       "      <td>0.528039</td>\n",
       "    </tr>\n",
       "    <tr>\n",
       "      <th>12</th>\n",
       "      <td>14.988276</td>\n",
       "      <td>0.242078</td>\n",
       "    </tr>\n",
       "    <tr>\n",
       "      <th>13</th>\n",
       "      <td>14.999752</td>\n",
       "      <td>0.307368</td>\n",
       "    </tr>\n",
       "    <tr>\n",
       "      <th>14</th>\n",
       "      <td>15.049467</td>\n",
       "      <td>0.374782</td>\n",
       "    </tr>\n",
       "    <tr>\n",
       "      <th>15</th>\n",
       "      <td>15.163097</td>\n",
       "      <td>0.439734</td>\n",
       "    </tr>\n",
       "    <tr>\n",
       "      <th>16</th>\n",
       "      <td>16.805519</td>\n",
       "      <td>0.398289</td>\n",
       "    </tr>\n",
       "  </tbody>\n",
       "</table>\n",
       "</div>"
      ],
      "text/plain": [
       "      lb_stat lb_pvalue\n",
       "1    0.083959  0.772002\n",
       "2    0.298484  0.861361\n",
       "3    1.086487  0.780337\n",
       "4    5.553595  0.235058\n",
       "5    5.873238  0.318749\n",
       "6     7.22881  0.300204\n",
       "7    9.171865  0.240551\n",
       "8    9.500623  0.301837\n",
       "9    9.501373  0.392337\n",
       "10   9.514684  0.484051\n",
       "11  10.026122  0.528039\n",
       "12  14.988276  0.242078\n",
       "13  14.999752  0.307368\n",
       "14  15.049467  0.374782\n",
       "15  15.163097  0.439734\n",
       "16  16.805519  0.398289"
      ]
     },
     "execution_count": 24,
     "metadata": {},
     "output_type": "execute_result"
    }
   ],
   "source": [
    "# Lung Box test for White Noise\n",
    "x = rawdata1_frcst.to_numpy()\n",
    "df = pd.DataFrame(columns=['lb_stat', 'lb_pvalue'])\n",
    "for i in range(1,17):\n",
    "    ss = sm.stats.acorr_ljungbox(x, lags=[i], return_df=True)\n",
    "    df.loc[i,'lb_stat'] = ss.iloc[0,0]\n",
    "    df.loc[i,'lb_pvalue'] = ss.iloc[0,1]\n",
    "df"
   ]
  },
  {
   "cell_type": "code",
   "execution_count": 25,
   "id": "ef91ade1",
   "metadata": {},
   "outputs": [
    {
     "name": "stdout",
     "output_type": "stream",
     "text": [
      "ADF Statistic: -1.4230190801355458\n",
      "p-value: 0.5711920938966767\n",
      "Critical Values:\n",
      "\t1%: -4.332\n",
      "\t5%: -3.233\n",
      "\t10%: -2.749\n"
     ]
    }
   ],
   "source": [
    "# ADF test for Random Walk\n",
    "\n",
    "results = adfuller(rawdata1_frcst)\n",
    "\n",
    "print(f\"ADF Statistic: {results[0]}\")\n",
    "print(f\"p-value: {results[1]}\")\n",
    "print(\"Critical Values:\")\n",
    "for key, value in results[4].items():\n",
    "    print(\"\\t%s: %.3f\" % (key, value))"
   ]
  },
  {
   "cell_type": "code",
   "execution_count": 26,
   "id": "bf237f9b",
   "metadata": {},
   "outputs": [
    {
     "data": {
      "image/png": "[encoded data removed]",
      "text/plain": [
       "<Figure size 640x480 with 4 Axes>"
      ]
     },
     "metadata": {},
     "output_type": "display_data"
    }
   ],
   "source": [
    "result = seasonal_decompose(rawdata1_frcst, model='multiplicative', period=1)\n",
    "result.plot()\n",
    "pyplot.show()"
   ]
  },
  {
   "cell_type": "code",
   "execution_count": 27,
   "id": "7229f169",
   "metadata": {},
   "outputs": [
    {
     "data": {
      "text/html": [
       "<div>\n",
       "<style scoped>\n",
       "    .dataframe tbody tr th:only-of-type {\n",
       "        vertical-align: middle;\n",
       "    }\n",
       "\n",
       "    .dataframe tbody tr th {\n",
       "        vertical-align: top;\n",
       "    }\n",
       "\n",
       "    .dataframe thead th {\n",
       "        text-align: right;\n",
       "    }\n",
       "</style>\n",
       "<table border=\"1\" class=\"dataframe\">\n",
       "  <thead>\n",
       "    <tr style=\"text-align: right;\">\n",
       "      <th></th>\n",
       "      <th>REVENUE_NET</th>\n",
       "    </tr>\n",
       "  </thead>\n",
       "  <tbody>\n",
       "    <tr>\n",
       "      <th>2019-07-01</th>\n",
       "      <td>1524000</td>\n",
       "    </tr>\n",
       "    <tr>\n",
       "      <th>2019-08-01</th>\n",
       "      <td>1463500</td>\n",
       "    </tr>\n",
       "    <tr>\n",
       "      <th>2019-09-01</th>\n",
       "      <td>1455700</td>\n",
       "    </tr>\n",
       "    <tr>\n",
       "      <th>2019-10-01</th>\n",
       "      <td>1544900</td>\n",
       "    </tr>\n",
       "    <tr>\n",
       "      <th>2019-11-01</th>\n",
       "      <td>1384700</td>\n",
       "    </tr>\n",
       "    <tr>\n",
       "      <th>2019-12-01</th>\n",
       "      <td>1471800</td>\n",
       "    </tr>\n",
       "  </tbody>\n",
       "</table>\n",
       "</div>"
      ],
      "text/plain": [
       "            REVENUE_NET\n",
       "2019-07-01      1524000\n",
       "2019-08-01      1463500\n",
       "2019-09-01      1455700\n",
       "2019-10-01      1544900\n",
       "2019-11-01      1384700\n",
       "2019-12-01      1471800"
      ]
     },
     "execution_count": 27,
     "metadata": {},
     "output_type": "execute_result"
    }
   ],
   "source": [
    "# create s naise forecast\n",
    "forecast = rawdata1_frcst.copy()\n",
    "forecast = forecast.iloc[6:12]\n",
    "forecast = forecast.reset_index()\n",
    "forecast_index = pd.date_range(start=\"2019-07\",end=\"2019-12\",freq='MS')\n",
    "forecast.index = forecast_index\n",
    "forecast = forecast.drop(['DATE'], axis=1)\n",
    "forecast"
   ]
  },
  {
   "cell_type": "code",
   "execution_count": 28,
   "id": "e053482f",
   "metadata": {},
   "outputs": [
    {
     "data": {
      "image/png": "[encoded data removed]",
      "text/plain": [
       "<Figure size 900x400 with 1 Axes>"
      ]
     },
     "metadata": {},
     "output_type": "display_data"
    }
   ],
   "source": [
    "# Plotting Forecast\n",
    "\n",
    "forecast_index = pd.date_range(start=\"2018-01\",end=\"2019-12\",freq='MS')\n",
    "\n",
    "fig = plt.figure(figsize=(9,4)) # creating the figure object\n",
    "ax = fig.add_subplot() # creating the chart (axes?) object\n",
    "ax.set_title('A Six Month Net Revenue Forecast for All Sample Stores (Seasonal Naive)',\n",
    "             fontsize = 13, pad = 20, loc = 'left') # title for the chart\n",
    "ax.plot(rawdata1_frcst.index,rawdata1_frcst['REVENUE_NET'],\n",
    "        color = 'tab:blue',\n",
    "        linewidth = 2)\n",
    "ax.plot(forecast.index,forecast['REVENUE_NET'],\n",
    "        color = 'tab:orange',\n",
    "        linewidth = 2)\n",
    "ax.set_xticks(ticks=forecast_index[::3],\n",
    "              labels = forecast_index[::3].strftime('%Y-%b'),\n",
    "              rotation=45,\n",
    "              ha='center',\n",
    "              fontsize = 10,\n",
    "              minor=False)\n",
    "ax.yaxis.set_major_formatter(\"${x:,.0f}\")\n",
    "plt.show()"
   ]
  },
  {
   "cell_type": "markdown",
   "id": "a69acd66",
   "metadata": {},
   "source": [
    "# Investigating Joe Green"
   ]
  },
  {
   "cell_type": "code",
   "execution_count": 29,
   "id": "35a539b6",
   "metadata": {},
   "outputs": [
    {
     "data": {
      "text/html": [
       "<div>\n",
       "<style scoped>\n",
       "    .dataframe tbody tr th:only-of-type {\n",
       "        vertical-align: middle;\n",
       "    }\n",
       "\n",
       "    .dataframe tbody tr th {\n",
       "        vertical-align: top;\n",
       "    }\n",
       "\n",
       "    .dataframe thead th {\n",
       "        text-align: right;\n",
       "    }\n",
       "</style>\n",
       "<table border=\"1\" class=\"dataframe\">\n",
       "  <thead>\n",
       "    <tr style=\"text-align: right;\">\n",
       "      <th></th>\n",
       "      <th>5 - Rev</th>\n",
       "      <th>10 - Rev</th>\n",
       "      <th>Total - Rev</th>\n",
       "    </tr>\n",
       "    <tr>\n",
       "      <th>DATE</th>\n",
       "      <th></th>\n",
       "      <th></th>\n",
       "      <th></th>\n",
       "    </tr>\n",
       "  </thead>\n",
       "  <tbody>\n",
       "    <tr>\n",
       "      <th>2018-01-01</th>\n",
       "      <td>48500</td>\n",
       "      <td>44400</td>\n",
       "      <td>387700</td>\n",
       "    </tr>\n",
       "    <tr>\n",
       "      <th>2018-02-01</th>\n",
       "      <td>47900</td>\n",
       "      <td>40000</td>\n",
       "      <td>379000</td>\n",
       "    </tr>\n",
       "    <tr>\n",
       "      <th>2018-03-01</th>\n",
       "      <td>51100</td>\n",
       "      <td>47600</td>\n",
       "      <td>431600</td>\n",
       "    </tr>\n",
       "  </tbody>\n",
       "</table>\n",
       "</div>"
      ],
      "text/plain": [
       "            5 - Rev  10 - Rev  Total - Rev\n",
       "DATE                                      \n",
       "2018-01-01    48500     44400       387700\n",
       "2018-02-01    47900     40000       379000\n",
       "2018-03-01    51100     47600       431600"
      ]
     },
     "execution_count": 29,
     "metadata": {},
     "output_type": "execute_result"
    }
   ],
   "source": [
    "rawdata1_B_rev = rawdata1[rawdata1['DAYPART']=='B']\n",
    "rawdata1_B_rev = pd.pivot_table(rawdata1_B_rev, values=['REVENUE_NET'], index=['DATE'],\n",
    "                       columns=['STORE'], aggfunc=\"sum\")\n",
    "rawdata1_B_rev = rawdata1_B_rev.droplevel(0, axis=1) \n",
    "rawdata1_B_rev.columns.name = None\n",
    "rawdata1_B_rev['Total'] = rawdata1_B_rev.sum(axis=1)\n",
    "rawdata1_B_rev = rawdata1_B_rev[[5,10,'Total']]\n",
    "rawdata1_B_rev.columns = ['5 - Rev', '10 - Rev','Total - Rev']\n",
    "rawdata1_B_rev.head(3)"
   ]
  },
  {
   "cell_type": "code",
   "execution_count": 30,
   "id": "3ca5cb57",
   "metadata": {},
   "outputs": [
    {
     "data": {
      "text/html": [
       "<div>\n",
       "<style scoped>\n",
       "    .dataframe tbody tr th:only-of-type {\n",
       "        vertical-align: middle;\n",
       "    }\n",
       "\n",
       "    .dataframe tbody tr th {\n",
       "        vertical-align: top;\n",
       "    }\n",
       "\n",
       "    .dataframe thead th {\n",
       "        text-align: right;\n",
       "    }\n",
       "</style>\n",
       "<table border=\"1\" class=\"dataframe\">\n",
       "  <thead>\n",
       "    <tr style=\"text-align: right;\">\n",
       "      <th></th>\n",
       "      <th>5 - CustCnt</th>\n",
       "      <th>10 - CustCnt</th>\n",
       "      <th>Total - CustCnt</th>\n",
       "    </tr>\n",
       "    <tr>\n",
       "      <th>DATE</th>\n",
       "      <th></th>\n",
       "      <th></th>\n",
       "      <th></th>\n",
       "    </tr>\n",
       "  </thead>\n",
       "  <tbody>\n",
       "    <tr>\n",
       "      <th>2018-01-01</th>\n",
       "      <td>7247</td>\n",
       "      <td>6863</td>\n",
       "      <td>58844</td>\n",
       "    </tr>\n",
       "    <tr>\n",
       "      <th>2018-02-01</th>\n",
       "      <td>6999</td>\n",
       "      <td>6146</td>\n",
       "      <td>56615</td>\n",
       "    </tr>\n",
       "    <tr>\n",
       "      <th>2018-03-01</th>\n",
       "      <td>7544</td>\n",
       "      <td>7219</td>\n",
       "      <td>64308</td>\n",
       "    </tr>\n",
       "  </tbody>\n",
       "</table>\n",
       "</div>"
      ],
      "text/plain": [
       "            5 - CustCnt  10 - CustCnt  Total - CustCnt\n",
       "DATE                                                  \n",
       "2018-01-01         7247          6863            58844\n",
       "2018-02-01         6999          6146            56615\n",
       "2018-03-01         7544          7219            64308"
      ]
     },
     "execution_count": 30,
     "metadata": {},
     "output_type": "execute_result"
    }
   ],
   "source": [
    "rawdata2_D_cuscnt = rawdata2[rawdata2['DAYPART']=='B']\n",
    "rawdata2_D_cuscnt = pd.pivot_table(rawdata2_D_cuscnt, values=['CUSTOMER_COUNT'], index=['DATE'],\n",
    "                       columns=['STORE'], aggfunc=\"sum\")\n",
    "rawdata2_D_cuscnt = rawdata2_D_cuscnt.droplevel(0, axis=1) \n",
    "rawdata2_D_cuscnt.columns.name = None\n",
    "rawdata2_D_cuscnt['Total'] = rawdata2_D_cuscnt.sum(axis=1)\n",
    "rawdata2_D_cuscnt = rawdata2_D_cuscnt[[5,10,'Total']]\n",
    "rawdata2_D_cuscnt.columns = ['5 - CustCnt', '10 - CustCnt','Total - CustCnt']\n",
    "rawdata2_D_cuscnt.head(3)"
   ]
  },
  {
   "cell_type": "code",
   "execution_count": 31,
   "id": "a9080de5",
   "metadata": {},
   "outputs": [],
   "source": [
    "result_df = pd.concat([rawdata1_B_rev, rawdata2_D_cuscnt], axis=1)"
   ]
  },
  {
   "cell_type": "code",
   "execution_count": 32,
   "id": "a68a625e",
   "metadata": {},
   "outputs": [],
   "source": [
    "result_df['5 - Spend_Per_Customer'] = result_df['5 - Rev'] / result_df['5 - CustCnt']\n",
    "result_df['10 - Spend_Per_Customer'] = result_df['10 - Rev'] / result_df['10 - CustCnt']\n",
    "result_df['Total - Spend_Per_Customer'] = result_df['Total - Rev'] / result_df['Total - CustCnt']"
   ]
  },
  {
   "cell_type": "code",
   "execution_count": 33,
   "id": "c79fbb74",
   "metadata": {},
   "outputs": [
    {
     "data": {
      "text/html": [
       "<div>\n",
       "<style scoped>\n",
       "    .dataframe tbody tr th:only-of-type {\n",
       "        vertical-align: middle;\n",
       "    }\n",
       "\n",
       "    .dataframe tbody tr th {\n",
       "        vertical-align: top;\n",
       "    }\n",
       "\n",
       "    .dataframe thead th {\n",
       "        text-align: right;\n",
       "    }\n",
       "</style>\n",
       "<table border=\"1\" class=\"dataframe\">\n",
       "  <thead>\n",
       "    <tr style=\"text-align: right;\">\n",
       "      <th></th>\n",
       "      <th>5 - Rev</th>\n",
       "      <th>10 - Rev</th>\n",
       "      <th>Total - Rev</th>\n",
       "      <th>5 - CustCnt</th>\n",
       "      <th>10 - CustCnt</th>\n",
       "      <th>Total - CustCnt</th>\n",
       "      <th>5 - Spend_Per_Customer</th>\n",
       "      <th>10 - Spend_Per_Customer</th>\n",
       "      <th>Total - Spend_Per_Customer</th>\n",
       "    </tr>\n",
       "    <tr>\n",
       "      <th>DATE</th>\n",
       "      <th></th>\n",
       "      <th></th>\n",
       "      <th></th>\n",
       "      <th></th>\n",
       "      <th></th>\n",
       "      <th></th>\n",
       "      <th></th>\n",
       "      <th></th>\n",
       "      <th></th>\n",
       "    </tr>\n",
       "  </thead>\n",
       "  <tbody>\n",
       "    <tr>\n",
       "      <th>2018-01-01</th>\n",
       "      <td>48500</td>\n",
       "      <td>44400</td>\n",
       "      <td>387700</td>\n",
       "      <td>7247</td>\n",
       "      <td>6863</td>\n",
       "      <td>58844</td>\n",
       "      <td>6.692424</td>\n",
       "      <td>6.469474</td>\n",
       "      <td>6.588607</td>\n",
       "    </tr>\n",
       "    <tr>\n",
       "      <th>2018-02-01</th>\n",
       "      <td>47900</td>\n",
       "      <td>40000</td>\n",
       "      <td>379000</td>\n",
       "      <td>6999</td>\n",
       "      <td>6146</td>\n",
       "      <td>56615</td>\n",
       "      <td>6.843835</td>\n",
       "      <td>6.508298</td>\n",
       "      <td>6.694339</td>\n",
       "    </tr>\n",
       "    <tr>\n",
       "      <th>2018-03-01</th>\n",
       "      <td>51100</td>\n",
       "      <td>47600</td>\n",
       "      <td>431600</td>\n",
       "      <td>7544</td>\n",
       "      <td>7219</td>\n",
       "      <td>64308</td>\n",
       "      <td>6.773595</td>\n",
       "      <td>6.593711</td>\n",
       "      <td>6.711451</td>\n",
       "    </tr>\n",
       "  </tbody>\n",
       "</table>\n",
       "</div>"
      ],
      "text/plain": [
       "            5 - Rev  10 - Rev  Total - Rev  5 - CustCnt  10 - CustCnt  \\\n",
       "DATE                                                                    \n",
       "2018-01-01    48500     44400       387700         7247          6863   \n",
       "2018-02-01    47900     40000       379000         6999          6146   \n",
       "2018-03-01    51100     47600       431600         7544          7219   \n",
       "\n",
       "            Total - CustCnt  5 - Spend_Per_Customer  10 - Spend_Per_Customer  \\\n",
       "DATE                                                                           \n",
       "2018-01-01            58844                6.692424                 6.469474   \n",
       "2018-02-01            56615                6.843835                 6.508298   \n",
       "2018-03-01            64308                6.773595                 6.593711   \n",
       "\n",
       "            Total - Spend_Per_Customer  \n",
       "DATE                                    \n",
       "2018-01-01                    6.588607  \n",
       "2018-02-01                    6.694339  \n",
       "2018-03-01                    6.711451  "
      ]
     },
     "execution_count": 33,
     "metadata": {},
     "output_type": "execute_result"
    }
   ],
   "source": [
    "result_df.head(3)"
   ]
  },
  {
   "cell_type": "code",
   "execution_count": 34,
   "id": "e76a672b",
   "metadata": {},
   "outputs": [
    {
     "data": {
      "image/png": "[encoded data removed]",
      "text/plain": [
       "<Figure size 700x400 with 1 Axes>"
      ]
     },
     "metadata": {},
     "output_type": "display_data"
    }
   ],
   "source": [
    "# Plotting Result\n",
    "\n",
    "fig = plt.figure(figsize=(7,4)) # creating the figure object\n",
    "ax = fig.add_subplot() # creating the chart (axes?) object\n",
    "# ax.set_title('Chart Title',\n",
    "#              fontsize = 13) # title for the chart\n",
    "ax.plot(result_df.index,result_df['5 - Spend_Per_Customer'],\n",
    "        color = 'tab:red',\n",
    "        linewidth = 2,\n",
    "        label = 'Store 5')\n",
    "ax.plot(result_df.index,result_df['10 - Spend_Per_Customer'],\n",
    "        color = 'tab:blue',\n",
    "        linewidth = 2,\n",
    "        label = 'Store 10')\n",
    "ax.plot(result_df.index,result_df['Total - Spend_Per_Customer'],\n",
    "        color = 'tab:orange',\n",
    "        linewidth = 2,\n",
    "        label = 'System Average')\n",
    "ax.set_xticks(ticks=result_df.index[::3],\n",
    "              labels = result_df.index[::3].strftime('%Y-%b'),\n",
    "              rotation=45,\n",
    "              ha='center',\n",
    "              fontsize = 10,\n",
    "              minor=False)\n",
    "ax.yaxis.set_major_formatter(\"${x:,.2f}\")\n",
    "ax.set_ylim(6,8)\n",
    "\n",
    "ax.set_ylabel('Average Breakfast Spend Per Customer')\n",
    "\n",
    "ax.legend(bbox_to_anchor=(1.35, 1.02))\n",
    "\n",
    "plt.show()"
   ]
  },
  {
   "cell_type": "markdown",
   "id": "41287475",
   "metadata": {},
   "source": [
    "# Price Elasticity Estimate"
   ]
  },
  {
   "cell_type": "code",
   "execution_count": 35,
   "id": "3b63a08f",
   "metadata": {},
   "outputs": [],
   "source": [
    "# Generating Data Needed to Produce Price Elasticity Model\n",
    "rawdata1_C = rawdata1.groupby(['DATE','STORE'])[['REVENUE_NET','QTY']].sum().reset_index()\n",
    "rawdata1_C['Price'] = rawdata1_C['REVENUE_NET'] / rawdata1_C['QTY']\n",
    "\n",
    "rawdata2_E = rawdata2.groupby(['DATE','STORE'])[['CUSTOMER_COUNT']].sum().reset_index()\n",
    "\n",
    "column_to_move = rawdata2_E.pop(\"CUSTOMER_COUNT\")\n",
    "df_ps = rawdata1_C\n",
    "df_ps.insert(5, \"CUSTOMER_COUNT\", column_to_move)"
   ]
  },
  {
   "cell_type": "code",
   "execution_count": 36,
   "id": "cac4241a",
   "metadata": {},
   "outputs": [],
   "source": [
    "df_ps = df_ps[df_ps['STORE']==10]"
   ]
  },
  {
   "cell_type": "code",
   "execution_count": 37,
   "id": "1918100e",
   "metadata": {},
   "outputs": [
    {
     "data": {
      "text/html": [
       "<div>\n",
       "<style scoped>\n",
       "    .dataframe tbody tr th:only-of-type {\n",
       "        vertical-align: middle;\n",
       "    }\n",
       "\n",
       "    .dataframe tbody tr th {\n",
       "        vertical-align: top;\n",
       "    }\n",
       "\n",
       "    .dataframe thead th {\n",
       "        text-align: right;\n",
       "    }\n",
       "</style>\n",
       "<table border=\"1\" class=\"dataframe\">\n",
       "  <thead>\n",
       "    <tr style=\"text-align: right;\">\n",
       "      <th></th>\n",
       "      <th>DATE</th>\n",
       "      <th>STORE</th>\n",
       "      <th>REVENUE_NET</th>\n",
       "      <th>QTY</th>\n",
       "      <th>Price</th>\n",
       "      <th>CUSTOMER_COUNT</th>\n",
       "    </tr>\n",
       "  </thead>\n",
       "  <tbody>\n",
       "    <tr>\n",
       "      <th>9</th>\n",
       "      <td>2018-01-01</td>\n",
       "      <td>10</td>\n",
       "      <td>158000</td>\n",
       "      <td>51750</td>\n",
       "      <td>3.053140</td>\n",
       "      <td>22861</td>\n",
       "    </tr>\n",
       "    <tr>\n",
       "      <th>19</th>\n",
       "      <td>2018-02-01</td>\n",
       "      <td>10</td>\n",
       "      <td>141300</td>\n",
       "      <td>46030</td>\n",
       "      <td>3.069737</td>\n",
       "      <td>20566</td>\n",
       "    </tr>\n",
       "    <tr>\n",
       "      <th>29</th>\n",
       "      <td>2018-03-01</td>\n",
       "      <td>10</td>\n",
       "      <td>159000</td>\n",
       "      <td>51420</td>\n",
       "      <td>3.092182</td>\n",
       "      <td>22973</td>\n",
       "    </tr>\n",
       "  </tbody>\n",
       "</table>\n",
       "</div>"
      ],
      "text/plain": [
       "         DATE  STORE  REVENUE_NET    QTY     Price  CUSTOMER_COUNT\n",
       "9  2018-01-01     10       158000  51750  3.053140           22861\n",
       "19 2018-02-01     10       141300  46030  3.069737           20566\n",
       "29 2018-03-01     10       159000  51420  3.092182           22973"
      ]
     },
     "execution_count": 37,
     "metadata": {},
     "output_type": "execute_result"
    }
   ],
   "source": [
    "df_ps.head(3)"
   ]
  },
  {
   "cell_type": "code",
   "execution_count": 38,
   "id": "bcaed7bc",
   "metadata": {},
   "outputs": [
    {
     "name": "stdout",
     "output_type": "stream",
     "text": [
      "                            OLS Regression Results                            \n",
      "==============================================================================\n",
      "Dep. Variable:         CUSTOMER_COUNT   R-squared:                       0.442\n",
      "Model:                            OLS   Adj. R-squared:                  0.407\n",
      "Method:                 Least Squares   F-statistic:                     12.68\n",
      "Date:                Tue, 12 Mar 2024   Prob (F-statistic):            0.00261\n",
      "Time:                        07:41:26   Log-Likelihood:                -153.18\n",
      "No. Observations:                  18   AIC:                             310.4\n",
      "Df Residuals:                      16   BIC:                             312.1\n",
      "Df Model:                           1                                         \n",
      "Covariance Type:            nonrobust                                         \n",
      "==============================================================================\n",
      "                 coef    std err          t      P>|t|      [0.025      0.975]\n",
      "------------------------------------------------------------------------------\n",
      "Intercept   5.777e+04   1.01e+04      5.724      0.000    3.64e+04    7.92e+04\n",
      "Price      -1.118e+04   3140.409     -3.560      0.003   -1.78e+04   -4523.523\n",
      "==============================================================================\n",
      "Omnibus:                        7.409   Durbin-Watson:                   1.561\n",
      "Prob(Omnibus):                  0.025   Jarque-Bera (JB):                4.531\n",
      "Skew:                          -1.076   Prob(JB):                        0.104\n",
      "Kurtosis:                       4.189   Cond. No.                         119.\n",
      "==============================================================================\n",
      "\n",
      "Notes:\n",
      "[1] Standard Errors assume that the covariance matrix of the errors is correctly specified.\n"
     ]
    },
    {
     "name": "stderr",
     "output_type": "stream",
     "text": [
      "C:\\Users\\darre\\anaconda3\\envs\\time_series\\Lib\\site-packages\\scipy\\stats\\_stats_py.py:1736: UserWarning: kurtosistest only valid for n>=20 ... continuing anyway, n=18\n",
      "  warnings.warn(\"kurtosistest only valid for n>=20 ... continuing \"\n"
     ]
    }
   ],
   "source": [
    "model = smf.ols(formula='CUSTOMER_COUNT ~ Price', data=df_ps).fit()\n",
    "print(model.summary())\n",
    "p = model.params"
   ]
  },
  {
   "cell_type": "code",
   "execution_count": 39,
   "id": "714320ac",
   "metadata": {},
   "outputs": [
    {
     "data": {
      "image/png": "[encoded data removed]",
      "text/plain": [
       "<Figure size 400x400 with 1 Axes>"
      ]
     },
     "metadata": {},
     "output_type": "display_data"
    }
   ],
   "source": [
    "# Plotting Forecast\n",
    "\n",
    "x = np.arange(0, 5) # a helper for the x axis labels\n",
    "\n",
    "fig = plt.figure(figsize=(4,4)) # creating the figure object\n",
    "ax = fig.add_subplot() # creating the chart (axes?) object\n",
    "# ax.set_title('An Initial Price Elasticity Estimate',\n",
    "#              fontsize = 15, loc ='left', pad = 25) # title for the chart\n",
    "ax.text(3.10, 30000, 'Store 10: Price Elasticity = -1.6', fontsize = 10, color = 'tab:red')\n",
    "ax.scatter(df_ps['Price'],df_ps['CUSTOMER_COUNT'],\n",
    "        color = 'tab:blue',\n",
    "        linewidth = 2,\n",
    "        label = 'LodgingRevenue')\n",
    "ax.plot(x, p.Intercept + p.Price*x, color = 'tab:red')\n",
    "\n",
    "ax.yaxis.set_major_formatter(\"{x:,.0f}\")\n",
    "ax.xaxis.set_major_formatter(\"${x:,.2f}\")\n",
    "ax.set_ylim(0,40000)\n",
    "ax.set_xlim(3.05,3.35)\n",
    "ax.arrow(3.25,28500, 0, -6500, length_includes_head=True,\n",
    "          head_width=0.01, head_length=1000)\n",
    "ax.set_ylabel('Customer Count')\n",
    "ax.set_xlabel('Monthly Average Price Per Item')\n",
    "\n",
    "\n",
    "plt.show()"
   ]
  },
  {
   "cell_type": "markdown",
   "id": "bca80ac1",
   "metadata": {},
   "source": [
    "# Analysis re Priority Categoriers"
   ]
  },
  {
   "cell_type": "code",
   "execution_count": 40,
   "id": "eb106029",
   "metadata": {},
   "outputs": [
    {
     "data": {
      "text/html": [
       "<div>\n",
       "<style scoped>\n",
       "    .dataframe tbody tr th:only-of-type {\n",
       "        vertical-align: middle;\n",
       "    }\n",
       "\n",
       "    .dataframe tbody tr th {\n",
       "        vertical-align: top;\n",
       "    }\n",
       "\n",
       "    .dataframe thead th {\n",
       "        text-align: right;\n",
       "    }\n",
       "</style>\n",
       "<table border=\"1\" class=\"dataframe\">\n",
       "  <thead>\n",
       "    <tr style=\"text-align: right;\">\n",
       "      <th></th>\n",
       "      <th>HALF YEAR</th>\n",
       "      <th>STORE</th>\n",
       "      <th>DAYPART</th>\n",
       "      <th>CATEGORY_ID</th>\n",
       "      <th>REVENUE_NET</th>\n",
       "      <th>QTY</th>\n",
       "    </tr>\n",
       "    <tr>\n",
       "      <th>DATE</th>\n",
       "      <th></th>\n",
       "      <th></th>\n",
       "      <th></th>\n",
       "      <th></th>\n",
       "      <th></th>\n",
       "      <th></th>\n",
       "    </tr>\n",
       "  </thead>\n",
       "  <tbody>\n",
       "    <tr>\n",
       "      <th>2018-01-01</th>\n",
       "      <td>H1-2018</td>\n",
       "      <td>1</td>\n",
       "      <td>B</td>\n",
       "      <td>10</td>\n",
       "      <td>11700</td>\n",
       "      <td>2050</td>\n",
       "    </tr>\n",
       "    <tr>\n",
       "      <th>2018-01-01</th>\n",
       "      <td>H1-2018</td>\n",
       "      <td>1</td>\n",
       "      <td>D</td>\n",
       "      <td>10</td>\n",
       "      <td>3700</td>\n",
       "      <td>570</td>\n",
       "    </tr>\n",
       "    <tr>\n",
       "      <th>2018-01-01</th>\n",
       "      <td>H1-2018</td>\n",
       "      <td>1</td>\n",
       "      <td>L</td>\n",
       "      <td>10</td>\n",
       "      <td>7700</td>\n",
       "      <td>1270</td>\n",
       "    </tr>\n",
       "    <tr>\n",
       "      <th>2018-02-01</th>\n",
       "      <td>H1-2018</td>\n",
       "      <td>1</td>\n",
       "      <td>B</td>\n",
       "      <td>10</td>\n",
       "      <td>11800</td>\n",
       "      <td>2070</td>\n",
       "    </tr>\n",
       "    <tr>\n",
       "      <th>2018-02-01</th>\n",
       "      <td>H1-2018</td>\n",
       "      <td>1</td>\n",
       "      <td>D</td>\n",
       "      <td>10</td>\n",
       "      <td>3700</td>\n",
       "      <td>570</td>\n",
       "    </tr>\n",
       "    <tr>\n",
       "      <th>...</th>\n",
       "      <td>...</td>\n",
       "      <td>...</td>\n",
       "      <td>...</td>\n",
       "      <td>...</td>\n",
       "      <td>...</td>\n",
       "      <td>...</td>\n",
       "    </tr>\n",
       "    <tr>\n",
       "      <th>2019-05-01</th>\n",
       "      <td>H1-2019</td>\n",
       "      <td>10</td>\n",
       "      <td>D</td>\n",
       "      <td>60</td>\n",
       "      <td>6900</td>\n",
       "      <td>1810</td>\n",
       "    </tr>\n",
       "    <tr>\n",
       "      <th>2019-05-01</th>\n",
       "      <td>H1-2019</td>\n",
       "      <td>10</td>\n",
       "      <td>L</td>\n",
       "      <td>60</td>\n",
       "      <td>5500</td>\n",
       "      <td>1710</td>\n",
       "    </tr>\n",
       "    <tr>\n",
       "      <th>2019-06-01</th>\n",
       "      <td>H1-2019</td>\n",
       "      <td>10</td>\n",
       "      <td>B</td>\n",
       "      <td>60</td>\n",
       "      <td>1400</td>\n",
       "      <td>780</td>\n",
       "    </tr>\n",
       "    <tr>\n",
       "      <th>2019-06-01</th>\n",
       "      <td>H1-2019</td>\n",
       "      <td>10</td>\n",
       "      <td>D</td>\n",
       "      <td>60</td>\n",
       "      <td>5900</td>\n",
       "      <td>1590</td>\n",
       "    </tr>\n",
       "    <tr>\n",
       "      <th>2019-06-01</th>\n",
       "      <td>H1-2019</td>\n",
       "      <td>10</td>\n",
       "      <td>L</td>\n",
       "      <td>60</td>\n",
       "      <td>4800</td>\n",
       "      <td>1490</td>\n",
       "    </tr>\n",
       "  </tbody>\n",
       "</table>\n",
       "<p>5400 rows × 6 columns</p>\n",
       "</div>"
      ],
      "text/plain": [
       "           HALF YEAR  STORE DAYPART CATEGORY_ID  REVENUE_NET   QTY\n",
       "DATE                                                              \n",
       "2018-01-01   H1-2018      1       B          10        11700  2050\n",
       "2018-01-01   H1-2018      1       D          10         3700   570\n",
       "2018-01-01   H1-2018      1       L          10         7700  1270\n",
       "2018-02-01   H1-2018      1       B          10        11800  2070\n",
       "2018-02-01   H1-2018      1       D          10         3700   570\n",
       "...              ...    ...     ...         ...          ...   ...\n",
       "2019-05-01   H1-2019     10       D          60         6900  1810\n",
       "2019-05-01   H1-2019     10       L          60         5500  1710\n",
       "2019-06-01   H1-2019     10       B          60         1400   780\n",
       "2019-06-01   H1-2019     10       D          60         5900  1590\n",
       "2019-06-01   H1-2019     10       L          60         4800  1490\n",
       "\n",
       "[5400 rows x 6 columns]"
      ]
     },
     "execution_count": 40,
     "metadata": {},
     "output_type": "execute_result"
    }
   ],
   "source": [
    "rawdata1"
   ]
  },
  {
   "cell_type": "code",
   "execution_count": 41,
   "id": "4e232f73",
   "metadata": {},
   "outputs": [],
   "source": [
    "rawdata1_D = rawdata1[rawdata1['STORE']==5]\n",
    "rawdata1_D = rawdata1_D[rawdata1_D['CATEGORY_ID']=='45']"
   ]
  },
  {
   "cell_type": "code",
   "execution_count": 42,
   "id": "85ab62cb",
   "metadata": {},
   "outputs": [],
   "source": [
    "# rawdata1_D = rawdata1[rawdata1['CATEGORY_ID']=='15']"
   ]
  },
  {
   "cell_type": "code",
   "execution_count": 43,
   "id": "f132b944",
   "metadata": {},
   "outputs": [],
   "source": [
    "rawdata1_D = rawdata1_D.groupby(['HALF YEAR'])['QTY'].sum().reset_index().set_index('HALF YEAR')"
   ]
  },
  {
   "cell_type": "code",
   "execution_count": 44,
   "id": "0b2b1628",
   "metadata": {},
   "outputs": [
    {
     "data": {
      "text/html": [
       "<div>\n",
       "<style scoped>\n",
       "    .dataframe tbody tr th:only-of-type {\n",
       "        vertical-align: middle;\n",
       "    }\n",
       "\n",
       "    .dataframe tbody tr th {\n",
       "        vertical-align: top;\n",
       "    }\n",
       "\n",
       "    .dataframe thead th {\n",
       "        text-align: right;\n",
       "    }\n",
       "</style>\n",
       "<table border=\"1\" class=\"dataframe\">\n",
       "  <thead>\n",
       "    <tr style=\"text-align: right;\">\n",
       "      <th></th>\n",
       "      <th>QTY</th>\n",
       "    </tr>\n",
       "    <tr>\n",
       "      <th>HALF YEAR</th>\n",
       "      <th></th>\n",
       "    </tr>\n",
       "  </thead>\n",
       "  <tbody>\n",
       "    <tr>\n",
       "      <th>H1-2018</th>\n",
       "      <td>10060</td>\n",
       "    </tr>\n",
       "    <tr>\n",
       "      <th>H1-2019</th>\n",
       "      <td>9150</td>\n",
       "    </tr>\n",
       "    <tr>\n",
       "      <th>H2-2018</th>\n",
       "      <td>9960</td>\n",
       "    </tr>\n",
       "  </tbody>\n",
       "</table>\n",
       "</div>"
      ],
      "text/plain": [
       "             QTY\n",
       "HALF YEAR       \n",
       "H1-2018    10060\n",
       "H1-2019     9150\n",
       "H2-2018     9960"
      ]
     },
     "execution_count": 44,
     "metadata": {},
     "output_type": "execute_result"
    }
   ],
   "source": [
    "rawdata1_D"
   ]
  },
  {
   "cell_type": "markdown",
   "id": "b2e41748",
   "metadata": {},
   "source": [
    "# Price Analysis"
   ]
  },
  {
   "cell_type": "code",
   "execution_count": 45,
   "id": "78c0fdf6",
   "metadata": {},
   "outputs": [],
   "source": [
    "def av_price(df,i):\n",
    "    if i != 0:\n",
    "        df = df[df['STORE']==i]\n",
    "    df = df.groupby(['CATEGORY_ID'])[['REVENUE_NET','QTY']].sum().reset_index()\n",
    "    df['Price'] = df['REVENUE_NET'] / df['QTY']\n",
    "    qty_sum_store = df['QTY'].sum()\n",
    "    df['Weight'] = df['QTY'] / qty_sum_store\n",
    "    df['Weighted Price'] = df['Price'] * df['Weight']\n",
    "    ave_price = df['Weighted Price'].sum()\n",
    "    \n",
    "    return ave_price"
   ]
  },
  {
   "cell_type": "code",
   "execution_count": 46,
   "id": "21809cda",
   "metadata": {},
   "outputs": [
    {
     "data": {
      "text/plain": [
       "[3.19327720654542,\n",
       " 3.337991266375546,\n",
       " 3.198576567367132,\n",
       " 3.2196180996394292,\n",
       " 3.202393635106649,\n",
       " 3.1617679029523025,\n",
       " 3.1929757859468197,\n",
       " 3.0819493822951674,\n",
       " 3.1773762255894984,\n",
       " 3.239862855543505,\n",
       " 3.206797744956437]"
      ]
     },
     "execution_count": 46,
     "metadata": {},
     "output_type": "execute_result"
    }
   ],
   "source": [
    "av_price_lst = []\n",
    "\n",
    "for i in range(0,11):\n",
    "    ave_price = av_price(rawdata1,i)\n",
    "    av_price_lst.append(ave_price)\n",
    "\n",
    "av_price_lst"
   ]
  },
  {
   "cell_type": "code",
   "execution_count": 47,
   "id": "29b35a7b",
   "metadata": {},
   "outputs": [
    {
     "data": {
      "text/plain": [
       "3.2164130109686813"
      ]
     },
     "execution_count": 47,
     "metadata": {},
     "output_type": "execute_result"
    }
   ],
   "source": [
    "av_price_lst_np = np.array(av_price_lst[1:12])\n",
    "perc_75 = np.percentile(av_price_lst_np, 75)\n",
    "perc_75"
   ]
  },
  {
   "cell_type": "code",
   "execution_count": 48,
   "id": "0adb89d0",
   "metadata": {},
   "outputs": [
    {
     "data": {
      "text/html": [
       "<div>\n",
       "<style scoped>\n",
       "    .dataframe tbody tr th:only-of-type {\n",
       "        vertical-align: middle;\n",
       "    }\n",
       "\n",
       "    .dataframe tbody tr th {\n",
       "        vertical-align: top;\n",
       "    }\n",
       "\n",
       "    .dataframe thead th {\n",
       "        text-align: right;\n",
       "    }\n",
       "</style>\n",
       "<table border=\"1\" class=\"dataframe\">\n",
       "  <thead>\n",
       "    <tr style=\"text-align: right;\">\n",
       "      <th></th>\n",
       "      <th>Average Price</th>\n",
       "    </tr>\n",
       "    <tr>\n",
       "      <th>Store</th>\n",
       "      <th></th>\n",
       "    </tr>\n",
       "  </thead>\n",
       "  <tbody>\n",
       "    <tr>\n",
       "      <th>System Average</th>\n",
       "      <td>3.193277</td>\n",
       "    </tr>\n",
       "    <tr>\n",
       "      <th>Store 1</th>\n",
       "      <td>3.337991</td>\n",
       "    </tr>\n",
       "    <tr>\n",
       "      <th>Store 2</th>\n",
       "      <td>3.198577</td>\n",
       "    </tr>\n",
       "  </tbody>\n",
       "</table>\n",
       "</div>"
      ],
      "text/plain": [
       "                Average Price\n",
       "Store                        \n",
       "System Average       3.193277\n",
       "Store 1              3.337991\n",
       "Store 2              3.198577"
      ]
     },
     "execution_count": 48,
     "metadata": {},
     "output_type": "execute_result"
    }
   ],
   "source": [
    "stores = ['System Average','Store 1','Store 2','Store 3','Store 4',\\\n",
    "          'Store 5','Store 6','Store 7','Store 8','Store 9','Store 10',]\n",
    "list_of_tuples = list(zip(stores, av_price_lst))\n",
    "plot_values = pd.DataFrame(list_of_tuples, columns = ['Store', 'Average Price']).set_index('Store')\n",
    "plot_values.head(3)"
   ]
  },
  {
   "cell_type": "code",
   "execution_count": 49,
   "id": "a1c566e8",
   "metadata": {},
   "outputs": [
    {
     "data": {
      "image/png": "[encoded data removed]",
      "text/plain": [
       "<Figure size 800x200 with 1 Axes>"
      ]
     },
     "metadata": {},
     "output_type": "display_data"
    }
   ],
   "source": [
    "fig = plt.figure(figsize=(8,2)) # creating the figure object\n",
    "ax = fig.add_subplot() # creating the chart (axes?) object\n",
    "ax.bar(plot_values.index,\n",
    "       plot_values['Average Price'],\n",
    "        color = ['tab:orange','tab:blue'])\n",
    "ax.set_xticks(\n",
    "    ticks=plot_values.index,\n",
    "    labels = plot_values.index,\n",
    "    rotation=45,\n",
    "    ha='right',\n",
    "    fontsize = 10,\n",
    "    minor=False)\n",
    "ax.set_ylim(3,3.4)\n",
    "ax.set_ylabel('Category-Qty Weighted \\n Average Price', fontsize = 10) # title for the chart\n",
    "ax.yaxis.set_major_formatter(\"${x:,.2f}\")\n",
    "ax.axhline(3.22, linestyle = '--', color = 'green')\n",
    "plt.show()\n"
   ]
  },
  {
   "cell_type": "code",
   "execution_count": null,
   "id": "3c63f7f3",
   "metadata": {},
   "outputs": [],
   "source": []
  },
  {
   "cell_type": "code",
   "execution_count": null,
   "id": "6919c7e1",
   "metadata": {},
   "outputs": [],
   "source": []
  }
 ],
 "metadata": {
  "kernelspec": {
   "display_name": "Python 3 (ipykernel)",
   "language": "python",
   "name": "python3"
  },
  "language_info": {
   "codemirror_mode": {
    "name": "ipython",
    "version": 3
   },
   "file_extension": ".py",
   "mimetype": "text/x-python",
   "name": "python",
   "nbconvert_exporter": "python",
   "pygments_lexer": "ipython3",
   "version": "3.11.4"
  },
  "toc": {
   "base_numbering": 1,
   "nav_menu": {},
   "number_sections": true,
   "sideBar": true,
   "skip_h1_title": false,
   "title_cell": "Table of Contents",
   "title_sidebar": "Contents",
   "toc_cell": false,
   "toc_position": {
    "height": "calc(100% - 180px)",
    "left": "10px",
    "top": "150px",
    "width": "490.2px"
   },
   "toc_section_display": true,
   "toc_window_display": true
  }
 },
 "nbformat": 4,
 "nbformat_minor": 5
}
